{
 "cells": [
  {
   "cell_type": "markdown",
   "metadata": {},
   "source": [
    "# EEG Signals Classification"
   ]
  },
  {
   "cell_type": "markdown",
   "metadata": {},
   "source": [
    "These files contain processed data from a psychology experiment measuring brain response when a subject pays attention to a sudden visual stimulus and when they do not.\n",
    "\n",
    "- The first column corresponds to the class (1 or 2).\n",
    "- Class 1 represents when the subject is paying attention (P300), and class 2 when they are not (non-P300).\n",
    "- The second column is to be ignored, while the rest of the columns represent variables calculated from the brain response measured using Electroencephalography (EEG) techniques for each case."
   ]
  },
  {
   "cell_type": "code",
   "execution_count": 1,
   "metadata": {},
   "outputs": [],
   "source": [
    "import numpy as np\n",
    "import pandas as pd\n",
    "\n",
    "df_txt = np.loadtxt(\"data/P1_5.txt\")\n",
    "df = pd.DataFrame(df_txt)\n",
    "df.drop(columns = 1, inplace = True)"
   ]
  },
  {
   "cell_type": "code",
   "execution_count": 2,
   "metadata": {},
   "outputs": [
    {
     "data": {
      "text/html": [
       "<div>\n",
       "<style scoped>\n",
       "    .dataframe tbody tr th:only-of-type {\n",
       "        vertical-align: middle;\n",
       "    }\n",
       "\n",
       "    .dataframe tbody tr th {\n",
       "        vertical-align: top;\n",
       "    }\n",
       "\n",
       "    .dataframe thead th {\n",
       "        text-align: right;\n",
       "    }\n",
       "</style>\n",
       "<table border=\"1\" class=\"dataframe\">\n",
       "  <thead>\n",
       "    <tr style=\"text-align: right;\">\n",
       "      <th></th>\n",
       "      <th>0</th>\n",
       "      <th>2</th>\n",
       "      <th>3</th>\n",
       "      <th>4</th>\n",
       "      <th>5</th>\n",
       "      <th>6</th>\n",
       "      <th>7</th>\n",
       "      <th>8</th>\n",
       "      <th>9</th>\n",
       "      <th>10</th>\n",
       "      <th>...</th>\n",
       "      <th>145</th>\n",
       "      <th>146</th>\n",
       "      <th>147</th>\n",
       "      <th>148</th>\n",
       "      <th>149</th>\n",
       "      <th>150</th>\n",
       "      <th>151</th>\n",
       "      <th>152</th>\n",
       "      <th>153</th>\n",
       "      <th>154</th>\n",
       "    </tr>\n",
       "  </thead>\n",
       "  <tbody>\n",
       "    <tr>\n",
       "      <th>0</th>\n",
       "      <td>1.0</td>\n",
       "      <td>6.778645</td>\n",
       "      <td>5.554810</td>\n",
       "      <td>4.935933</td>\n",
       "      <td>5.639114</td>\n",
       "      <td>6.603463</td>\n",
       "      <td>6.309278</td>\n",
       "      <td>4.738829</td>\n",
       "      <td>3.110043</td>\n",
       "      <td>2.167682</td>\n",
       "      <td>...</td>\n",
       "      <td>0.129900</td>\n",
       "      <td>-0.609716</td>\n",
       "      <td>-0.822197</td>\n",
       "      <td>-0.109120</td>\n",
       "      <td>0.899585</td>\n",
       "      <td>1.374105</td>\n",
       "      <td>1.187913</td>\n",
       "      <td>0.742605</td>\n",
       "      <td>0.347446</td>\n",
       "      <td>0.131211</td>\n",
       "    </tr>\n",
       "    <tr>\n",
       "      <th>1</th>\n",
       "      <td>1.0</td>\n",
       "      <td>-0.354725</td>\n",
       "      <td>-0.210143</td>\n",
       "      <td>-0.337065</td>\n",
       "      <td>-0.613978</td>\n",
       "      <td>-0.725109</td>\n",
       "      <td>-0.509282</td>\n",
       "      <td>-0.154146</td>\n",
       "      <td>0.062651</td>\n",
       "      <td>0.102172</td>\n",
       "      <td>...</td>\n",
       "      <td>-0.468649</td>\n",
       "      <td>-0.052648</td>\n",
       "      <td>0.544180</td>\n",
       "      <td>0.781654</td>\n",
       "      <td>0.833143</td>\n",
       "      <td>1.253793</td>\n",
       "      <td>1.914558</td>\n",
       "      <td>2.013101</td>\n",
       "      <td>1.287430</td>\n",
       "      <td>0.521264</td>\n",
       "    </tr>\n",
       "    <tr>\n",
       "      <th>2</th>\n",
       "      <td>1.0</td>\n",
       "      <td>1.727716</td>\n",
       "      <td>2.056163</td>\n",
       "      <td>1.876898</td>\n",
       "      <td>0.992565</td>\n",
       "      <td>0.224456</td>\n",
       "      <td>0.429907</td>\n",
       "      <td>1.229387</td>\n",
       "      <td>1.403841</td>\n",
       "      <td>0.507216</td>\n",
       "      <td>...</td>\n",
       "      <td>-0.365350</td>\n",
       "      <td>-0.827163</td>\n",
       "      <td>0.208835</td>\n",
       "      <td>1.473647</td>\n",
       "      <td>1.545710</td>\n",
       "      <td>0.672175</td>\n",
       "      <td>0.097850</td>\n",
       "      <td>0.288585</td>\n",
       "      <td>0.679454</td>\n",
       "      <td>0.822155</td>\n",
       "    </tr>\n",
       "    <tr>\n",
       "      <th>3</th>\n",
       "      <td>1.0</td>\n",
       "      <td>1.064721</td>\n",
       "      <td>1.299112</td>\n",
       "      <td>0.705400</td>\n",
       "      <td>0.422355</td>\n",
       "      <td>1.269587</td>\n",
       "      <td>2.672225</td>\n",
       "      <td>3.240471</td>\n",
       "      <td>2.234018</td>\n",
       "      <td>0.275905</td>\n",
       "      <td>...</td>\n",
       "      <td>0.026794</td>\n",
       "      <td>-0.726883</td>\n",
       "      <td>-0.768780</td>\n",
       "      <td>-0.600054</td>\n",
       "      <td>-0.948638</td>\n",
       "      <td>-1.688718</td>\n",
       "      <td>-1.858080</td>\n",
       "      <td>-0.862087</td>\n",
       "      <td>0.660512</td>\n",
       "      <td>1.426284</td>\n",
       "    </tr>\n",
       "    <tr>\n",
       "      <th>4</th>\n",
       "      <td>1.0</td>\n",
       "      <td>-0.010284</td>\n",
       "      <td>-0.097968</td>\n",
       "      <td>-0.345274</td>\n",
       "      <td>-0.216691</td>\n",
       "      <td>0.351261</td>\n",
       "      <td>0.781839</td>\n",
       "      <td>0.695825</td>\n",
       "      <td>0.298840</td>\n",
       "      <td>-0.198690</td>\n",
       "      <td>...</td>\n",
       "      <td>1.946469</td>\n",
       "      <td>0.730151</td>\n",
       "      <td>-0.396311</td>\n",
       "      <td>-0.324040</td>\n",
       "      <td>0.629645</td>\n",
       "      <td>1.199808</td>\n",
       "      <td>0.600917</td>\n",
       "      <td>-0.806892</td>\n",
       "      <td>-2.087005</td>\n",
       "      <td>-2.579933</td>\n",
       "    </tr>\n",
       "  </tbody>\n",
       "</table>\n",
       "<p>5 rows × 154 columns</p>\n",
       "</div>"
      ],
      "text/plain": [
       "   0         2         3         4         5         6         7         8    \\\n",
       "0  1.0  6.778645  5.554810  4.935933  5.639114  6.603463  6.309278  4.738829   \n",
       "1  1.0 -0.354725 -0.210143 -0.337065 -0.613978 -0.725109 -0.509282 -0.154146   \n",
       "2  1.0  1.727716  2.056163  1.876898  0.992565  0.224456  0.429907  1.229387   \n",
       "3  1.0  1.064721  1.299112  0.705400  0.422355  1.269587  2.672225  3.240471   \n",
       "4  1.0 -0.010284 -0.097968 -0.345274 -0.216691  0.351261  0.781839  0.695825   \n",
       "\n",
       "        9         10   ...       145       146       147       148       149  \\\n",
       "0  3.110043  2.167682  ...  0.129900 -0.609716 -0.822197 -0.109120  0.899585   \n",
       "1  0.062651  0.102172  ... -0.468649 -0.052648  0.544180  0.781654  0.833143   \n",
       "2  1.403841  0.507216  ... -0.365350 -0.827163  0.208835  1.473647  1.545710   \n",
       "3  2.234018  0.275905  ...  0.026794 -0.726883 -0.768780 -0.600054 -0.948638   \n",
       "4  0.298840 -0.198690  ...  1.946469  0.730151 -0.396311 -0.324040  0.629645   \n",
       "\n",
       "        150       151       152       153       154  \n",
       "0  1.374105  1.187913  0.742605  0.347446  0.131211  \n",
       "1  1.253793  1.914558  2.013101  1.287430  0.521264  \n",
       "2  0.672175  0.097850  0.288585  0.679454  0.822155  \n",
       "3 -1.688718 -1.858080 -0.862087  0.660512  1.426284  \n",
       "4  1.199808  0.600917 -0.806892 -2.087005 -2.579933  \n",
       "\n",
       "[5 rows x 154 columns]"
      ]
     },
     "execution_count": 2,
     "metadata": {},
     "output_type": "execute_result"
    }
   ],
   "source": [
    "df.head()"
   ]
  },
  {
   "cell_type": "code",
   "execution_count": 3,
   "metadata": {},
   "outputs": [],
   "source": [
    "X = df.drop(columns = 0)\n",
    "y = df.loc[:,0] - 1 # For simplicity in future model training\n",
    "y = y.replace({0: 1, 1: 0})"
   ]
  },
  {
   "cell_type": "markdown",
   "metadata": {},
   "source": [
    "### Handle imbalanced dataset"
   ]
  },
  {
   "cell_type": "code",
   "execution_count": 4,
   "metadata": {},
   "outputs": [
    {
     "data": {
      "text/plain": [
       "(1689, 281)"
      ]
     },
     "execution_count": 4,
     "metadata": {},
     "output_type": "execute_result"
    }
   ],
   "source": [
    "notP300_count = len(y[y == 0])\n",
    "P300_count = len(y[y == 1])\n",
    "(notP300_count, P300_count)"
   ]
  },
  {
   "cell_type": "code",
   "execution_count": 5,
   "metadata": {},
   "outputs": [
    {
     "data": {
      "text/plain": [
       "(0.8573604060913705, 0.14263959390862943)"
      ]
     },
     "execution_count": 5,
     "metadata": {},
     "output_type": "execute_result"
    }
   ],
   "source": [
    "prior_0 = len(y[y == 0]) / len(y)\n",
    "prior_1 = len(y[y == 1]) / len(y)\n",
    "(prior_0, prior_1)"
   ]
  },
  {
   "cell_type": "markdown",
   "metadata": {},
   "source": [
    "#### Indeed, the dataset is imbalanced. More than 85% of the samples are labeled as non-P300, and less than 15% are labeled as P300."
   ]
  },
  {
   "cell_type": "code",
   "execution_count": 52,
   "metadata": {},
   "outputs": [],
   "source": [
    "# Eight Classifiers\n",
    "from sklearn.svm import SVC # Linear and RBF\n",
    "from sklearn.ensemble import RandomForestClassifier\n",
    "from sklearn.naive_bayes import GaussianNB\n",
    "from sklearn.tree import DecisionTreeClassifier\n",
    "from sklearn.neighbors import KNeighborsClassifier\n",
    "from sklearn.discriminant_analysis import LinearDiscriminantAnalysis\n",
    "from xgboost import XGBClassifier\n",
    "\n",
    "# Cross-validation and metrics\n",
    "from sklearn.model_selection import StratifiedKFold\n",
    "from sklearn.metrics import classification_report, f1_score\n",
    "from sklearn.model_selection import train_test_split\n",
    "import random"
   ]
  },
  {
   "cell_type": "markdown",
   "metadata": {},
   "source": [
    "### Here's a function in Python to evaluate a model using cross-validation. It handles class imbalance by applying subsampling and uses weighted loss if the model includes this option in sklearn. The function can take any classifier model as input, apply cross-validation, and manage imbalance through either subsampling or a weighted loss function."
   ]
  },
  {
   "cell_type": "code",
   "execution_count": 7,
   "metadata": {},
   "outputs": [],
   "source": [
    "def evaluate_model(X, y, classifier, balance_param_name=None, balance_param_value=None):\n",
    "    \"\"\"\n",
    "    Función para evaluar modelos utilizando validación cruzada, aplicando subsampling \n",
    "    y, si es aplicable, incluir un parámetro personalizado para manejar desbalanceo de datos.\n",
    "\n",
    "    Parámetros:\n",
    "    X (pd.DataFrame): Características\n",
    "    y (pd.Series): Etiquetas\n",
    "    classifier: Modelo clasificador a evaluar\n",
    "    balance_param_name (str): Nombre del parámetro para manejar desbalanceo (ej: 'class_weight')\n",
    "    balance_param_value (any): Valor del parámetro de desbalanceo (ej: 'balanced')\n",
    "\n",
    "    Retorna:\n",
    "    None: Imprime el reporte de clasificación de la validación cruzada.\n",
    "    \"\"\"\n",
    "\n",
    "    # Validación cruzada\n",
    "    kf = StratifiedKFold(n_splits=5, shuffle=True)\n",
    "    \n",
    "    cv_y_test = []\n",
    "    cv_y_pred = []\n",
    "\n",
    "    # Aplicamos subsampling en cada pliegue\n",
    "    for train_index, test_index in kf.split(X, y):\n",
    "        X_train = X.iloc[train_index]\n",
    "        y_train = y.iloc[train_index]\n",
    "\n",
    "        # Subsampling: balancear las clases haciendo muestreo aleatorio de la clase mayoritaria\n",
    "        X1 = X_train[y_train == 0]  # Datos de la clase 1\n",
    "        y1 = y_train[y_train == 0]\n",
    "        n1 = len(y1)\n",
    "\n",
    "        X2 = X_train[y_train == 1]  # Datos de la clase 2\n",
    "        y2 = y_train[y_train == 1]\n",
    "        n2 = len(y2)\n",
    "\n",
    "        \n",
    "\n",
    "        # Muestreo aleatorio de la clase mayoritaria\n",
    "        ind = random.choices(list(X2.index), k=n1)  # Igualar el número de muestras\n",
    "        X_sub = pd.concat([X1, X2.loc[ind]])\n",
    "        y_sub = pd.concat([y1, y2.loc[ind]])\n",
    "\n",
    "        # Entrenar el modelo con subsampling\n",
    "        classifier.fit(X_sub, y_sub)\n",
    "\n",
    "        # Fase de prueba\n",
    "        X_test = X.iloc[test_index]\n",
    "        y_test = y.iloc[test_index]\n",
    "        y_pred = classifier.predict(X_test)\n",
    "\n",
    "        # Guardar predicciones y etiquetas reales\n",
    "        cv_y_test.append(y_test)\n",
    "        cv_y_pred.append(pd.Series(y_pred, index=y_test.index))\n",
    "\n",
    "    # Concatenar predicciones y etiquetas\n",
    "    y_test_concat = pd.concat(cv_y_test)\n",
    "    y_pred_concat = pd.concat(cv_y_pred)\n",
    "\n",
    "    # Imprimir reporte de clasificación con subsampling\n",
    "    print(f\"--- Reporte de clasificación con subsampling ---\")\n",
    "    print(classification_report(y_test_concat, y_pred_concat))\n",
    "\n",
    "    # Evaluación adicional con un parámetro de balanceo (si se ha proporcionado)\n",
    "    if balance_param_name and balance_param_value:\n",
    "        # Crear una copia del clasificador con el parámetro de balanceo aplicado\n",
    "        classifier_with_balance = classifier.set_params(**{balance_param_name: balance_param_value})\n",
    "\n",
    "        cv_y_test_balanced = []\n",
    "        cv_y_pred_balanced = []\n",
    "\n",
    "        for train_index, test_index in kf.split(X, y):\n",
    "            # Entrenamos el modelo con el parámetro de balanceo sin subsampling\n",
    "            X_train = X.iloc[train_index]\n",
    "            y_train = y.iloc[train_index]\n",
    "            classifier_with_balance.fit(X_train, y_train)\n",
    "\n",
    "            # Fase de prueba\n",
    "            X_test = X.iloc[test_index]\n",
    "            y_test = y.iloc[test_index]\n",
    "            y_pred_balanced = classifier_with_balance.predict(X_test)\n",
    "\n",
    "            # Guardar predicciones y etiquetas reales\n",
    "            cv_y_test_balanced.append(y_test)\n",
    "            cv_y_pred_balanced.append(pd.Series(y_pred_balanced, index=y_test.index))\n",
    "\n",
    "        # Concatenar predicciones y etiquetas\n",
    "        y_test_concat_balanced = pd.concat(cv_y_test_balanced)\n",
    "        y_pred_concat_balanced = pd.concat(cv_y_pred_balanced)\n",
    "\n",
    "        # Imprimir reporte de clasificación con el parámetro de balanceo\n",
    "        print(f\"--- Reporte de clasificación con {balance_param_name}={balance_param_value} ---\")\n",
    "        print(classification_report(y_test_concat_balanced, y_pred_concat_balanced))"
   ]
  },
  {
   "cell_type": "markdown",
   "metadata": {},
   "source": [
    "### K-Nearest-Neighbors"
   ]
  },
  {
   "cell_type": "code",
   "execution_count": 8,
   "metadata": {},
   "outputs": [
    {
     "name": "stdout",
     "output_type": "stream",
     "text": [
      "--- Reporte de clasificación con subsampling ---\n",
      "              precision    recall  f1-score   support\n",
      "\n",
      "         0.0       0.93      0.80      0.86      1689\n",
      "         1.0       0.35      0.64      0.45       281\n",
      "\n",
      "    accuracy                           0.78      1970\n",
      "   macro avg       0.64      0.72      0.66      1970\n",
      "weighted avg       0.85      0.78      0.80      1970\n",
      "\n"
     ]
    }
   ],
   "source": [
    "evaluate_model(X, y, KNeighborsClassifier(n_neighbors=5))"
   ]
  },
  {
   "cell_type": "markdown",
   "metadata": {},
   "source": [
    "### Linear Discriminant Analysis"
   ]
  },
  {
   "cell_type": "code",
   "execution_count": 9,
   "metadata": {},
   "outputs": [
    {
     "name": "stdout",
     "output_type": "stream",
     "text": [
      "--- Reporte de clasificación con subsampling ---\n",
      "              precision    recall  f1-score   support\n",
      "\n",
      "         0.0       0.97      0.88      0.92      1689\n",
      "         1.0       0.53      0.83      0.65       281\n",
      "\n",
      "    accuracy                           0.87      1970\n",
      "   macro avg       0.75      0.85      0.78      1970\n",
      "weighted avg       0.91      0.87      0.88      1970\n",
      "\n",
      "--- Reporte de clasificación con priors=[0.8573604060913705, 0.14263959390862943] ---\n",
      "              precision    recall  f1-score   support\n",
      "\n",
      "         0.0       0.94      0.97      0.95      1689\n",
      "         1.0       0.76      0.63      0.69       281\n",
      "\n",
      "    accuracy                           0.92      1970\n",
      "   macro avg       0.85      0.80      0.82      1970\n",
      "weighted avg       0.91      0.92      0.92      1970\n",
      "\n"
     ]
    }
   ],
   "source": [
    "evaluate_model(X, y, LinearDiscriminantAnalysis(), balance_param_name='priors', balance_param_value=[prior_0, prior_1])"
   ]
  },
  {
   "cell_type": "markdown",
   "metadata": {},
   "source": [
    "### Gaussian Naive-Bayes"
   ]
  },
  {
   "cell_type": "code",
   "execution_count": 10,
   "metadata": {},
   "outputs": [
    {
     "name": "stdout",
     "output_type": "stream",
     "text": [
      "--- Reporte de clasificación con subsampling ---\n",
      "              precision    recall  f1-score   support\n",
      "\n",
      "         0.0       0.90      0.94      0.92      1689\n",
      "         1.0       0.48      0.35      0.41       281\n",
      "\n",
      "    accuracy                           0.85      1970\n",
      "   macro avg       0.69      0.64      0.66      1970\n",
      "weighted avg       0.84      0.85      0.84      1970\n",
      "\n",
      "--- Reporte de clasificación con priors=[0.8573604060913705, 0.14263959390862943] ---\n",
      "              precision    recall  f1-score   support\n",
      "\n",
      "         0.0       0.88      0.94      0.91      1689\n",
      "         1.0       0.40      0.25      0.31       281\n",
      "\n",
      "    accuracy                           0.84      1970\n",
      "   macro avg       0.64      0.59      0.61      1970\n",
      "weighted avg       0.81      0.84      0.82      1970\n",
      "\n"
     ]
    }
   ],
   "source": [
    "evaluate_model(X, y, GaussianNB(), balance_param_name='priors', balance_param_value=[prior_0, prior_1])"
   ]
  },
  {
   "cell_type": "markdown",
   "metadata": {},
   "source": [
    "### Linear Support Vector Classifier"
   ]
  },
  {
   "cell_type": "code",
   "execution_count": 11,
   "metadata": {},
   "outputs": [
    {
     "name": "stdout",
     "output_type": "stream",
     "text": [
      "--- Reporte de clasificación con subsampling ---\n",
      "              precision    recall  f1-score   support\n",
      "\n",
      "         0.0       0.97      0.89      0.92      1689\n",
      "         1.0       0.54      0.81      0.65       281\n",
      "\n",
      "    accuracy                           0.87      1970\n",
      "   macro avg       0.75      0.85      0.79      1970\n",
      "weighted avg       0.90      0.87      0.88      1970\n",
      "\n",
      "--- Reporte de clasificación con class_weight=balanced ---\n",
      "              precision    recall  f1-score   support\n",
      "\n",
      "         0.0       0.97      0.88      0.92      1689\n",
      "         1.0       0.54      0.81      0.65       281\n",
      "\n",
      "    accuracy                           0.87      1970\n",
      "   macro avg       0.75      0.85      0.78      1970\n",
      "weighted avg       0.90      0.87      0.88      1970\n",
      "\n"
     ]
    }
   ],
   "source": [
    "evaluate_model(X, y, SVC(kernel='linear'), balance_param_name='class_weight', balance_param_value='balanced')"
   ]
  },
  {
   "cell_type": "markdown",
   "metadata": {},
   "source": [
    "### Radial Support Vector Classifier"
   ]
  },
  {
   "cell_type": "code",
   "execution_count": 13,
   "metadata": {},
   "outputs": [
    {
     "name": "stdout",
     "output_type": "stream",
     "text": [
      "--- Reporte de clasificación con subsampling ---\n",
      "              precision    recall  f1-score   support\n",
      "\n",
      "         0.0       0.96      0.94      0.95      1689\n",
      "         1.0       0.68      0.78      0.73       281\n",
      "\n",
      "    accuracy                           0.92      1970\n",
      "   macro avg       0.82      0.86      0.84      1970\n",
      "weighted avg       0.92      0.92      0.92      1970\n",
      "\n",
      "--- Reporte de clasificación con class_weight=balanced ---\n",
      "              precision    recall  f1-score   support\n",
      "\n",
      "         0.0       0.96      0.93      0.95      1689\n",
      "         1.0       0.66      0.79      0.72       281\n",
      "\n",
      "    accuracy                           0.91      1970\n",
      "   macro avg       0.81      0.86      0.83      1970\n",
      "weighted avg       0.92      0.91      0.91      1970\n",
      "\n"
     ]
    }
   ],
   "source": [
    "evaluate_model(X, y, SVC(kernel='rbf'), balance_param_name='class_weight', balance_param_value='balanced')"
   ]
  },
  {
   "cell_type": "markdown",
   "metadata": {},
   "source": [
    "### Desicion Tree"
   ]
  },
  {
   "cell_type": "code",
   "execution_count": 14,
   "metadata": {},
   "outputs": [
    {
     "name": "stdout",
     "output_type": "stream",
     "text": [
      "--- Reporte de clasificación con subsampling ---\n",
      "              precision    recall  f1-score   support\n",
      "\n",
      "         0.0       0.92      0.91      0.91      1689\n",
      "         1.0       0.49      0.51      0.50       281\n",
      "\n",
      "    accuracy                           0.85      1970\n",
      "   macro avg       0.70      0.71      0.71      1970\n",
      "weighted avg       0.86      0.85      0.86      1970\n",
      "\n",
      "--- Reporte de clasificación con class_weight=balanced ---\n",
      "              precision    recall  f1-score   support\n",
      "\n",
      "         0.0       0.91      0.91      0.91      1689\n",
      "         1.0       0.46      0.44      0.45       281\n",
      "\n",
      "    accuracy                           0.85      1970\n",
      "   macro avg       0.68      0.68      0.68      1970\n",
      "weighted avg       0.84      0.85      0.84      1970\n",
      "\n"
     ]
    }
   ],
   "source": [
    "evaluate_model(X, y, DecisionTreeClassifier(), balance_param_name='class_weight', balance_param_value='balanced')"
   ]
  },
  {
   "cell_type": "markdown",
   "metadata": {},
   "source": [
    "### Random Forest"
   ]
  },
  {
   "cell_type": "code",
   "execution_count": 15,
   "metadata": {},
   "outputs": [
    {
     "name": "stdout",
     "output_type": "stream",
     "text": [
      "--- Reporte de clasificación con subsampling ---\n",
      "              precision    recall  f1-score   support\n",
      "\n",
      "         0.0       0.90      0.99      0.94      1689\n",
      "         1.0       0.88      0.34      0.49       281\n",
      "\n",
      "    accuracy                           0.90      1970\n",
      "   macro avg       0.89      0.67      0.72      1970\n",
      "weighted avg       0.90      0.90      0.88      1970\n",
      "\n",
      "--- Reporte de clasificación con class_weight=balanced ---\n",
      "              precision    recall  f1-score   support\n",
      "\n",
      "         0.0       0.88      1.00      0.93      1689\n",
      "         1.0       0.88      0.18      0.30       281\n",
      "\n",
      "    accuracy                           0.88      1970\n",
      "   macro avg       0.88      0.59      0.61      1970\n",
      "weighted avg       0.88      0.88      0.84      1970\n",
      "\n"
     ]
    }
   ],
   "source": [
    "evaluate_model(X, y, RandomForestClassifier(), balance_param_name='class_weight', balance_param_value='balanced')"
   ]
  },
  {
   "cell_type": "markdown",
   "metadata": {},
   "source": [
    "### XGBoost"
   ]
  },
  {
   "cell_type": "code",
   "execution_count": 16,
   "metadata": {},
   "outputs": [
    {
     "name": "stdout",
     "output_type": "stream",
     "text": [
      "--- Reporte de clasificación con subsampling ---\n",
      "              precision    recall  f1-score   support\n",
      "\n",
      "         0.0       0.94      0.97      0.95      1689\n",
      "         1.0       0.78      0.62      0.69       281\n",
      "\n",
      "    accuracy                           0.92      1970\n",
      "   macro avg       0.86      0.80      0.82      1970\n",
      "weighted avg       0.92      0.92      0.92      1970\n",
      "\n",
      "--- Reporte de clasificación con scale_pos_weight=6.01067615658363 ---\n",
      "              precision    recall  f1-score   support\n",
      "\n",
      "         0.0       0.94      0.97      0.95      1689\n",
      "         1.0       0.78      0.60      0.68       281\n",
      "\n",
      "    accuracy                           0.92      1970\n",
      "   macro avg       0.86      0.79      0.82      1970\n",
      "weighted avg       0.91      0.92      0.91      1970\n",
      "\n"
     ]
    }
   ],
   "source": [
    "evaluate_model(X, y, XGBClassifier(), balance_param_name='scale_pos_weight', balance_param_value=len(y[y == 0])/len(y[y == 1]))"
   ]
  },
  {
   "cell_type": "markdown",
   "metadata": {},
   "source": [
    "### Logistic Regression from Scratch"
   ]
  },
  {
   "cell_type": "code",
   "execution_count": 24,
   "metadata": {},
   "outputs": [],
   "source": [
    "# Sigmoid Function\n",
    "def sigmoid(x):\n",
    "    return 1 / (1 + np.exp(-x))\n",
    "\n",
    "class LogisticRegression:\n",
    "    \n",
    "    def __init__(self, lr=0.001, n_iters=1000):\n",
    "        self.lr = lr #Learning rate\n",
    "        self.n_iters = n_iters #Number of epochs\n",
    "        self.weights = None # Weights\n",
    "        self.bias = None # Bias\n",
    "        \n",
    "    def fit(self, X, y):\n",
    "        # Define key variables\n",
    "        n_samples, n_features = X.shape\n",
    "        \n",
    "        #Initialize weights and bias with zeros\n",
    "        self.weights = np.zeros(n_features)\n",
    "        self.bias = 0\n",
    "        \n",
    "        # Train the model for n_iters times\n",
    "        for _ in range(self.n_iters):\n",
    "            # Get predictions\n",
    "            linear_pred = np.dot(X, self.weights) + self.bias # y = mx + b\n",
    "            predictions = sigmoid(linear_pred) # fit our linear predictions into the sigmoid function\n",
    "            \n",
    "            # Calculate the Gradients\n",
    "            dw = (1 / n_samples) * np.dot(X.T, (predictions - y))\n",
    "            db = (1 / n_samples) * np.sum(predictions - y)\n",
    "    \n",
    "            # Compute new weights and biases\n",
    "            self.weights -= self.lr * dw\n",
    "            self.bias -= self.lr * db\n",
    "\n",
    "    def predict(self, X):\n",
    "        linear_pred = np.dot(X, self.weights) + self.bias # y = mx + b\n",
    "        y_pred = sigmoid(linear_pred) # fit our linear predictions into the sigmoid functio\n",
    "        class_pred = [0 if y <= 0.5 else 1 for y in y_pred] # assign a class to our predictions\n",
    "        return np.array(class_pred)"
   ]
  },
  {
   "cell_type": "code",
   "execution_count": 25,
   "metadata": {},
   "outputs": [
    {
     "name": "stdout",
     "output_type": "stream",
     "text": [
      "--- Reporte de clasificación con subsampling ---\n",
      "              precision    recall  f1-score   support\n",
      "\n",
      "         0.0       0.99      0.66      0.79      1689\n",
      "         1.0       0.32      0.96      0.48       281\n",
      "\n",
      "    accuracy                           0.71      1970\n",
      "   macro avg       0.66      0.81      0.64      1970\n",
      "weighted avg       0.89      0.71      0.75      1970\n",
      "\n"
     ]
    }
   ],
   "source": [
    "evaluate_model(X, y, LogisticRegression())"
   ]
  },
  {
   "cell_type": "markdown",
   "metadata": {},
   "source": [
    "### Best model: Radial Support Vector Classifier with weight loss function"
   ]
  },
  {
   "cell_type": "markdown",
   "metadata": {},
   "source": [
    "This model was chosen because it has a good recall for the minority class (0.79), indicating that it detected almost 80% of the P300 signals. Additionally, it has the highest F1-score for the minority class (0.72) among all the evaluated models, which indicates the best balance between recall and precision for this class. Finally, it achieved an accuracy of 0.91.\n",
    "\n",
    "However, this model is not recommended for some feature selection methods. In fact, only filter methods are advised since they do not require model training prior to feature selection. Therefore, other models will be used for the remaining methods. For sequential feature selection, Linear Discriminant Analysis will be employed, and for Recursive Feature Elimination (RFE), Linear SVC will be used."
   ]
  },
  {
   "cell_type": "markdown",
   "metadata": {},
   "source": [
    "### Feature Selection: Filter method"
   ]
  },
  {
   "cell_type": "code",
   "execution_count": 42,
   "metadata": {},
   "outputs": [
    {
     "name": "stdout",
     "output_type": "stream",
     "text": [
      "Optimal number of features:  128\n",
      "F1-Score (class 1) with optimal number of features:  0.740192737478181\n"
     ]
    },
    {
     "data": {
      "image/png": "[encoded data removed]",
      "text/plain": [
       "<Figure size 640x480 with 1 Axes>"
      ]
     },
     "metadata": {},
     "output_type": "display_data"
    }
   ],
   "source": [
    "n_feats = range(1, len(X.columns)+1)\n",
    "f1_nfeat = []\n",
    "\n",
    "kf = StratifiedKFold(n_splits=5, shuffle=True)\n",
    "\n",
    "for n_feat in n_feats:\n",
    "    \n",
    "    f1_cv = []\n",
    "\n",
    "    for train_index, test_index in kf.split(X, y):\n",
    "        # Training phase\n",
    "        X_train = X.iloc[train_index, :]\n",
    "        y_train = y.iloc[train_index]\n",
    "\n",
    "        # Define classifier with Radial kernel\n",
    "        clf_cv = SVC(kernel='rbf', class_weight = 'balanced')\n",
    "\n",
    "        # Feature selection with SelectKBest\n",
    "        fselection_cv = SelectKBest(f_classif, k=n_feat)\n",
    "        fselection_cv.fit(X_train, y_train)\n",
    "        X_train_selected = fselection_cv.transform(X_train)\n",
    "\n",
    "        # Train classifier\n",
    "        clf_cv.fit(X_train_selected, y_train)\n",
    "\n",
    "        # Test phase\n",
    "        X_test_selected = fselection_cv.transform(X.iloc[test_index, :])\n",
    "        y_test = y.iloc[test_index]\n",
    "        y_pred = clf_cv.predict(X_test_selected)\n",
    "\n",
    "        # Calculate f1-score for class 1\n",
    "        f1_i = f1_score(y_test, y_pred, pos_label=1)\n",
    "        f1_cv.append(f1_i)\n",
    "\n",
    "    # Average f1-score for this number of features\n",
    "    f1_avg = np.average(f1_cv)\n",
    "    f1_nfeat.append(f1_avg)\n",
    "\n",
    "# Find optimal number of features\n",
    "opt_index = np.argmax(f1_nfeat)\n",
    "opt_features = n_feats[opt_index]\n",
    "opt_f1_score = f1_nfeat[opt_index]\n",
    "print(\"Optimal number of features: \", opt_features)\n",
    "print(\"F1-Score (class 1) with optimal number of features: \", opt_f1_score)\n",
    "\n",
    "# Plot f1-score vs number of features\n",
    "plt.plot(n_feats, f1_nfeat)\n",
    "plt.xlabel(\"Number of features\")\n",
    "plt.ylabel(\"F1-Score (class 1)\")\n",
    "plt.title(\"F1-Score vs Number of Features (SelectKBest + Radial SVC)\")\n",
    "plt.show()"
   ]
  },
  {
   "cell_type": "markdown",
   "metadata": {},
   "source": [
    "### Feature Selection: Sequential method"
   ]
  },
  {
   "cell_type": "code",
   "execution_count": 44,
   "metadata": {},
   "outputs": [],
   "source": [
    "from sklearn.feature_selection import SequentialFeatureSelector"
   ]
  },
  {
   "cell_type": "code",
   "execution_count": null,
   "metadata": {
    "scrolled": true
   },
   "outputs": [],
   "source": [
    "n_feats = range(1, len(X.columns)+1)\n",
    "f1_nfeat = []\n",
    "\n",
    "kf = StratifiedKFold(n_splits=5, shuffle=True)\n",
    "\n",
    "for n_feat in n_feats:\n",
    "\n",
    "    \n",
    "    f1_cv = []\n",
    "\n",
    "    for train_index, test_index in kf.split(X, y):\n",
    "        # Training phase\n",
    "        X_train = X.iloc[train_index, :]\n",
    "        y_train = y.iloc[train_index]\n",
    "\n",
    "        # Define LDA classifier\n",
    "        clf_cv = LinearDiscriminantAnalysis(priors=[prior_0, prior_1])\n",
    "\n",
    "        # Sequential Feature Selector\n",
    "        fselection_cv = SequentialFeatureSelector(clf_cv, n_features_to_select=n_feat, direction='forward', cv=3)\n",
    "        fselection_cv.fit(X_train, y_train)\n",
    "        X_train_selected = fselection_cv.transform(X_train)\n",
    "\n",
    "        # Train classifier\n",
    "        clf_cv.fit(X_train_selected, y_train)\n",
    "\n",
    "        # Test phase\n",
    "        X_test_selected = fselection_cv.transform(X.iloc[test_index, :])\n",
    "        y_test = y.iloc[test_index]\n",
    "        y_pred = clf_cv.predict(X_test_selected)\n",
    "\n",
    "        # Calculate f1-score for class 1\n",
    "        f1_i = f1_score(y_test, y_pred, pos_label=1)\n",
    "        f1_cv.append(f1_i)\n",
    "        \n",
    "\n",
    "    # Average f1-score for this number of features\n",
    "    f1_avg = np.average(f1_cv)\n",
    "    f1_nfeat.append(f1_avg)\n",
    "    \n",
    "\n",
    "# Find optimal number of features\n",
    "opt_index = np.argmax(f1_nfeat)\n",
    "opt_features = n_feats[opt_index]\n",
    "opt_f1_score = f1_nfeat[opt_index]\n",
    "\n",
    "print(\"Optimal number of features: \", opt_features)\n",
    "print(\"F1-Score (class 1) with optimal number of features: \", opt_f1_score)\n",
    "\n",
    "# Plot f1-score vs number of features\n",
    "plt.plot(n_feats, f1_nfeat)\n",
    "plt.xlabel(\"Number of features\")\n",
    "plt.ylabel(\"F1-Score (class 1)\")\n",
    "plt.title(\"F1-Score vs Number of Features (Sequential Feature Selector + LDA)\")\n",
    "plt.show()"
   ]
  },
  {
   "cell_type": "markdown",
   "metadata": {},
   "source": [
    "### Feature Selection: RFE method"
   ]
  },
  {
   "cell_type": "code",
   "execution_count": 48,
   "metadata": {},
   "outputs": [],
   "source": [
    "from sklearn.feature_selection import RFE"
   ]
  },
  {
   "cell_type": "code",
   "execution_count": null,
   "metadata": {},
   "outputs": [],
   "source": [
    "# Inicialización de variables\n",
    "n_feats = range(1, len(X.columns)+1)\n",
    "f1_nfeat = []\n",
    "\n",
    "kf = StratifiedKFold(n_splits=5, shuffle=True)\n",
    "\n",
    "for n_feat in n_feats:\n",
    "    \n",
    "    print(f'---- n features = {n_feat}')\n",
    "    \n",
    "    f1_cv = []\n",
    "\n",
    "    for train_index, test_index in kf.split(X, y):\n",
    "        # Fase de entrenamiento\n",
    "        X_train = X.iloc[train_index, :]\n",
    "        y_train = y.iloc[train_index]\n",
    "\n",
    "        # Definir clasificador con kernel lineal\n",
    "        clf_cv = SVC(kernel='linear', class_weight='balanced')\n",
    "\n",
    "        # Selección de características con RFE\n",
    "        rfe_cv = RFE(estimator=clf_cv, n_features_to_select=n_feat)\n",
    "        rfe_cv.fit(X_train, y_train)\n",
    "        X_train_selected = rfe_cv.transform(X_train)\n",
    "\n",
    "        # Entrenar clasificador\n",
    "        clf_cv.fit(X_train_selected, y_train)\n",
    "\n",
    "        # Fase de prueba\n",
    "        X_test_selected = rfe_cv.transform(X.iloc[test_index, :])\n",
    "        y_test = y.iloc[test_index]\n",
    "        y_pred = clf_cv.predict(X_test_selected)\n",
    "\n",
    "        # Calcular f1-score para la clase 1\n",
    "        f1_i = f1_score(y_test, y_pred, pos_label=1)\n",
    "        f1_cv.append(f1_i)\n",
    "\n",
    "    # F1-score promedio para esta cantidad de características\n",
    "    f1_avg = np.average(f1_cv)\n",
    "    f1_nfeat.append(f1_avg)\n",
    "    \n",
    "    print(f'F1-Score (class 1): {f1_avg}')\n",
    "\n",
    "# Encontrar el número óptimo de características\n",
    "opt_index = np.argmax(f1_nfeat)\n",
    "opt_features = n_feats[opt_index]\n",
    "opt_f1_score = f1_nfeat[opt_index]\n",
    "print(\"Optimal number of features: \", opt_features)\n",
    "print(\"F1-Score (class 1) with optimal number of features: \", opt_f1_score)\n",
    "\n",
    "# Graficar f1-score vs número de características\n",
    "plt.plot(n_feats, f1_nfeat)\n",
    "plt.xlabel(\"Number of features\")\n",
    "plt.ylabel(\"F1-Score (class 1)\")\n",
    "plt.title(\"F1-Score vs Number of Features (RFE + Linear SVC)\")\n",
    "plt.show()"
   ]
  },
  {
   "cell_type": "markdown",
   "metadata": {},
   "source": [
    "### Final Model: Radial SVC with 128 features"
   ]
  },
  {
   "cell_type": "code",
   "execution_count": 50,
   "metadata": {},
   "outputs": [],
   "source": [
    "# Selección de las 128 mejores características\n",
    "num_features = 128\n",
    "fselection = SelectKBest(f_classif, k=num_features)\n",
    "X_selected = fselection.fit_transform(X, y)"
   ]
  },
  {
   "cell_type": "code",
   "execution_count": null,
   "metadata": {},
   "outputs": [],
   "source": [
    "# Definir clasificador con kernel radial (RBF)\n",
    "clf = SVC(kernel='rbf', class_weight='balanced')"
   ]
  },
  {
   "cell_type": "code",
   "execution_count": null,
   "metadata": {
    "scrolled": true
   },
   "outputs": [],
   "source": [
    "# Entrenar el clasificador con todos los datos\n",
    "clf.fit(X_selected, y)"
   ]
  },
  {
   "cell_type": "code",
   "execution_count": null,
   "metadata": {},
   "outputs": [],
   "source": [
    "# Guardar el modelo en un archivo pickle\n",
    "'''\n",
    "with open('radial_svc_model.pkl', 'wb') as model_file:\n",
    "    pickle.dump(clf, model_file)\n",
    "\n",
    "print(\"Modelo Radial SVC guardado en 'radial_svc_model.pkl'\")\n",
    "'''"
   ]
  },
  {
   "cell_type": "markdown",
   "metadata": {},
   "source": [
    "### Answer the following questions:\n",
    "\n",
    "- **What happens if the issue of imbalanced data is not considered in this case? Why?** If the classes in the dataset are not balanced when training a machine learning model, we will end up with a model that fails to classify the minority class. This will result in a model that shows very good accuracy but poor recall for the minority class.\n",
    "\n",
    "- **Of all the classifiers, which do you consider suitable for the data? What properties do these models have that make them appropriate? Justify your answer.** Two of the top three models were linear: Linear Discriminant Analysis (LDA) and Linear SVC. However, the best model was Radial SVC, which is computationally expensive but capable of mapping a nonlinear hyperplane that accurately classifies observations from different classes.\n",
    "\n",
    "- **Is it possible to reduce the dimensionality of the problem without losing performance in the model? Why?** Yes, it is possible to reduce dimensionality using both feature selection and dimensionality reduction methods. This is because, with so many features, some may not contribute valuable information due to issues like collinearity. Therefore, it is possible to eliminate these features or create a smaller number of new features that account for a high percentage of the variance explained in the target variable.\n",
    "\n",
    "- **Which feature selection method do you consider most suitable for this case? Why?** I believe that the filter method is the best due to its significantly lower computational cost compared to the other two methods.\n",
    "\n",
    "- **If you wanted to improve the performance of your models, what else could be done?** Hyperparameter tuning could be performed on the best models to find the optimal hyperparameters."
   ]
  }
 ],
 "metadata": {
  "kernelspec": {
   "display_name": "Python 3 (ipykernel)",
   "language": "python",
   "name": "python3"
  },
  "language_info": {
   "codemirror_mode": {
    "name": "ipython",
    "version": 3
   },
   "file_extension": ".py",
   "mimetype": "text/x-python",
   "name": "python",
   "nbconvert_exporter": "python",
   "pygments_lexer": "ipython3",
   "version": "3.12.4"
  },
  "vscode": {
   "interpreter": {
    "hash": "c812eb984687e98b7686c463c3fae2045e58b2a2b4e065b3dcebe3cb7d51662e"
   }
  }
 },
 "nbformat": 4,
 "nbformat_minor": 4
}
